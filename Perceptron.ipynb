{
  "nbformat": 4,
  "nbformat_minor": 0,
  "metadata": {
    "colab": {
      "name": "Perceptron.ipynb",
      "provenance": [],
      "collapsed_sections": [],
      "authorship_tag": "ABX9TyN7HdWdT62rNdoF6Ow/pbGQ",
      "include_colab_link": true
    },
    "kernelspec": {
      "name": "python3",
      "display_name": "Python 3"
    },
    "language_info": {
      "name": "python"
    }
  },
  "cells": [
    {
      "cell_type": "markdown",
      "metadata": {
        "id": "view-in-github",
        "colab_type": "text"
      },
      "source": [
        "<a href=\"https://colab.research.google.com/github/MatGam3r/PrimerGitTest/blob/main/Perceptron.ipynb\" target=\"_parent\"><img src=\"https://colab.research.google.com/assets/colab-badge.svg\" alt=\"Open In Colab\"/></a>"
      ]
    },
    {
      "cell_type": "code",
      "metadata": {
        "colab": {
          "base_uri": "https://localhost:8080/",
          "height": 822
        },
        "id": "OVcJbCQcL5mU",
        "outputId": "d7ac7200-d711-4c9c-bb92-39126e8fca58"
      },
      "source": [
        "import numpy as np\n",
        " \n",
        "class Perceptron:\n",
        "    \"\"\"Clasificador Perceptron basado en la descripción del libro\n",
        "    \"Python Machine Learning\" de Sebastian Raschka.\n",
        " \n",
        "    Parametros\n",
        "    ----------\n",
        " \n",
        "    eta: float Tasa de aprendizaje.\n",
        "    n_iter: int Pasadas sobre el dataset.\n",
        " \n",
        "    Atributos\n",
        "    ---------\n",
        "    w_: array-1d\n",
        "        Pesos actualizados después del ajuste\n",
        "    errors_: list\n",
        "        Cantidad de errores de clasificación en cada pasada\n",
        "     \"\"\"\n",
        "    def __init__(self, eta=0.1, n_iter=10):\n",
        "        self.eta = eta\n",
        "        self.n_iter = n_iter\n",
        " \n",
        "    def fit(self, X, y):\n",
        "        \"\"\"Ajustar datos de entrenamiento\n",
        " \n",
        "        Parámetros\n",
        "        ----------\n",
        "        X:  array like, forma = [n_samples, n_features]\n",
        "            Vectores de entrenamiento donde n_samples es el número de muestras y\n",
        "            n_features es el número de carácteristicas de cada muestra.\n",
        "        y:  array-like, forma = [n_samples].\n",
        "            Valores de destino\n",
        " \n",
        "        Returns\n",
        "        -------\n",
        "        self:   object\n",
        "        \"\"\"\n",
        "        self.w_ = np.zeros(1 + X.shape[1])\n",
        "        self.errors_ = []\n",
        " \n",
        "        for _ in range(self.n_iter):\n",
        "            errors = 0\n",
        "            for xi, target in zip(X, y):\n",
        "                update = self.eta * (target - self.predict(xi)) #actualizacion de predicción\n",
        "                self.w_[1:] += update * xi\n",
        "                self.w_[0] += update\n",
        "                errors += int(update != 0.0)\n",
        "            self.errors_.append(errors)\n",
        "        return self\n",
        " \n",
        "    def predict(self, X):\n",
        "        \"\"\"Devolver clase usando función escalón de Heaviside.\n",
        "        phi(z) = 1 si z >= theta; -1 en otro caso\n",
        "        \"\"\"\n",
        "        phi = np.where(self.net_input(X) >= 0.0, 1, -1)\n",
        "        return phi\n",
        " \n",
        "    def net_input(self, X):\n",
        "        \"\"\"Calcular el valor z (net input)\"\"\"\n",
        "        # z = w · x + theta\n",
        "        z = np.dot(X, self.w_[1:]) + self.w_[0]\n",
        "        return z\n",
        "\n",
        "import pandas as pd\n",
        "import matplotlib.pyplot as plt\n",
        " \n",
        "# Cargamos el dataset\n",
        "df = pd.read_csv(\"iris.data\", header=None)\n",
        "\n",
        "# extraemos el largo sepal y el largo del pétalo en las columnas 0 y 2. Usaremos solo Setosa y Versicolor\n",
        "X = df.iloc[0:100, [0, 2]].values #convertimos de strimg a valores numericos\n",
        "# Seleccionamos Setosa y Versicolor.\n",
        "y = df.iloc[0:100, 4].values # y es valores del 0 a 100 de la columna 4, son nuestras clases\n",
        "print(y)\n",
        "y = np.where(y == 'Iris-setosa', -1, 1) # lo llevamos al lenguaje del perceptron convertimos setosa en valor -1, el resto +1\n",
        "print(y) \n",
        "# Inicializamos el perceptron\n",
        "ppn = Perceptron(eta=0.1, n_iter=10) #eta (rata de aprendizaje) valor de aprendizaje de 0.1, se recomeinda pequeña, las iteraciones son 10\n",
        " \n",
        "# Lo entrenamos con los vectores X e y\n",
        "ppn.fit(X, y)  #linea de aprendizaje del Perceptron () (las iteraciones son nuestras epocas) \n",
        "\n",
        "# Graficamos el número de errores en cada iteración\n",
        "plt.plot(range(1, len(ppn.errors_) + 1), ppn.errors_, marker='o')\n",
        "plt.xlabel('Epochs')\n",
        "plt.ylabel('Número de actualizaciones')\n",
        "plt.tight_layout()\n",
        "plt.show()"
      ],
      "execution_count": null,
      "outputs": [
        {
          "output_type": "stream",
          "name": "stdout",
          "text": [
            "['Iris-setosa' 'Iris-setosa' 'Iris-setosa' 'Iris-setosa' 'Iris-setosa'\n",
            " 'Iris-setosa' 'Iris-setosa' 'Iris-setosa' 'Iris-setosa' 'Iris-setosa'\n",
            " 'Iris-setosa' 'Iris-setosa' 'Iris-setosa' 'Iris-setosa' 'Iris-setosa'\n",
            " 'Iris-setosa' 'Iris-setosa' 'Iris-setosa' 'Iris-setosa' 'Iris-setosa'\n",
            " 'Iris-setosa' 'Iris-setosa' 'Iris-setosa' 'Iris-setosa' 'Iris-setosa'\n",
            " 'Iris-setosa' 'Iris-setosa' 'Iris-setosa' 'Iris-setosa' 'Iris-setosa'\n",
            " 'Iris-setosa' 'Iris-setosa' 'Iris-setosa' 'Iris-setosa' 'Iris-setosa'\n",
            " 'Iris-setosa' 'Iris-setosa' 'Iris-setosa' 'Iris-setosa' 'Iris-setosa'\n",
            " 'Iris-setosa' 'Iris-setosa' 'Iris-setosa' 'Iris-setosa' 'Iris-setosa'\n",
            " 'Iris-setosa' 'Iris-setosa' 'Iris-setosa' 'Iris-setosa' 'Iris-setosa'\n",
            " 'Iris-versicolor' 'Iris-versicolor' 'Iris-versicolor' 'Iris-versicolor'\n",
            " 'Iris-versicolor' 'Iris-versicolor' 'Iris-versicolor' 'Iris-versicolor'\n",
            " 'Iris-versicolor' 'Iris-versicolor' 'Iris-versicolor' 'Iris-versicolor'\n",
            " 'Iris-versicolor' 'Iris-versicolor' 'Iris-versicolor' 'Iris-versicolor'\n",
            " 'Iris-versicolor' 'Iris-versicolor' 'Iris-versicolor' 'Iris-versicolor'\n",
            " 'Iris-versicolor' 'Iris-versicolor' 'Iris-versicolor' 'Iris-versicolor'\n",
            " 'Iris-versicolor' 'Iris-versicolor' 'Iris-versicolor' 'Iris-versicolor'\n",
            " 'Iris-versicolor' 'Iris-versicolor' 'Iris-versicolor' 'Iris-versicolor'\n",
            " 'Iris-versicolor' 'Iris-versicolor' 'Iris-versicolor' 'Iris-versicolor'\n",
            " 'Iris-versicolor' 'Iris-versicolor' 'Iris-versicolor' 'Iris-versicolor'\n",
            " 'Iris-versicolor' 'Iris-versicolor' 'Iris-versicolor' 'Iris-versicolor'\n",
            " 'Iris-versicolor' 'Iris-versicolor' 'Iris-versicolor' 'Iris-versicolor'\n",
            " 'Iris-versicolor' 'Iris-versicolor']\n",
            "[-1 -1 -1 -1 -1 -1 -1 -1 -1 -1 -1 -1 -1 -1 -1 -1 -1 -1 -1 -1 -1 -1 -1 -1\n",
            " -1 -1 -1 -1 -1 -1 -1 -1 -1 -1 -1 -1 -1 -1 -1 -1 -1 -1 -1 -1 -1 -1 -1 -1\n",
            " -1 -1  1  1  1  1  1  1  1  1  1  1  1  1  1  1  1  1  1  1  1  1  1  1\n",
            "  1  1  1  1  1  1  1  1  1  1  1  1  1  1  1  1  1  1  1  1  1  1  1  1\n",
            "  1  1  1  1]\n"
          ]
        },
        {
          "output_type": "display_data",
          "data": {
            "image/png": "[encoded data removed]",
            "text/plain": [
              "<Figure size 432x288 with 1 Axes>"
            ]
          },
          "metadata": {
            "needs_background": "light"
          }
        }
      ]
    },
    {
      "cell_type": "markdown",
      "metadata": {
        "id": "U8wI7HSQOoJS"
      },
      "source": [
        "Podemos ver que la epoca 6 (iteraccion 6) es el punto de menor menor mas simple.\n"
      ]
    }
  ]
}